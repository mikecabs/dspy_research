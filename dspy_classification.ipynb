{
 "cells": [
  {
   "cell_type": "markdown",
   "metadata": {},
   "source": [
    "# 1. Setup Environment"
   ]
  },
  {
   "cell_type": "code",
   "execution_count": 37,
   "metadata": {},
   "outputs": [],
   "source": [
    "# !pip install dspy-ai\n",
    "# !pip install sklearn"
   ]
  },
  {
   "cell_type": "code",
   "execution_count": 81,
   "metadata": {},
   "outputs": [],
   "source": [
    "import os\n",
    "\n",
    "import dspy\n",
    "from sklearn.datasets import fetch_20newsgroups"
   ]
  },
  {
   "cell_type": "code",
   "execution_count": 157,
   "metadata": {},
   "outputs": [],
   "source": [
    "os.environ[\"OPENAI_API_KEY\"] = 'your_api_key'"
   ]
  },
  {
   "cell_type": "code",
   "execution_count": 158,
   "metadata": {},
   "outputs": [],
   "source": [
    "turbo = dspy.OpenAI(model='gpt-4o-mini-2024-07-18')\n",
    "dspy.settings.configure(lm=turbo)"
   ]
  },
  {
   "cell_type": "markdown",
   "metadata": {},
   "source": [
    "# 2. Create Dataset"
   ]
  },
  {
   "cell_type": "code",
   "execution_count": 142,
   "metadata": {},
   "outputs": [],
   "source": [
    "def convert_target_labels_to_names(sklearn_dataset):\n",
    "    sklearn_dataset.target = [sklearn_dataset.target_names[i] for i in sklearn_dataset.target]\n",
    "    return sklearn_dataset\n",
    "\n",
    "\n",
    "newsgroups_dataset = convert_target_labels_to_names(fetch_20newsgroups(subset='all'))\n",
    "dspy_examples = [\n",
    "    dspy.Example(post=post, topic=topic).with_inputs('post')\n",
    "    for post, topic in zip(newsgroups_dataset.data, newsgroups_dataset.target)\n",
    "]\n",
    "train, test = dspy_examples[:100], dspy_examples[100:200]"
   ]
  },
  {
   "cell_type": "markdown",
   "metadata": {},
   "source": [
    "# 3. Create DSPy Classifier"
   ]
  },
  {
   "cell_type": "code",
   "execution_count": 143,
   "metadata": {},
   "outputs": [],
   "source": [
    "class TopicPredictor(dspy.Signature):\n",
    "    \"\"\"Classify the topic of the newsgroup post.\"\"\"\n",
    "\n",
    "    post = dspy.InputField(desc='Newsgroup post')\n",
    "    topic = dspy.OutputField(\n",
    "        desc=f\"Topic of the post. Possible values: {', '.join(f'`{i}`' for i in newsgroups_dataset.target_names)}\"\n",
    "    )\n",
    "\n",
    "\n",
    "def validate_topic(example, pred, trace=None):\n",
    "    return example.topic.lower() == pred.topic.lower()\n",
    "\n",
    "\n",
    "classify = dspy.Predict(TopicPredictor)"
   ]
  },
  {
   "cell_type": "code",
   "execution_count": null,
   "metadata": {},
   "outputs": [],
   "source": [
    "evaluate = dspy.Evaluate(\n",
    "    devset=test, metric=validate_topic, num_threads=4, display_progress=True, display_table=False\n",
    ")\n",
    "evaluate(classify)"
   ]
  },
  {
   "cell_type": "markdown",
   "metadata": {},
   "source": [
    "# 4. Optimize with 4o + 4o-mini"
   ]
  },
  {
   "cell_type": "code",
   "execution_count": null,
   "metadata": {},
   "outputs": [],
   "source": [
    "teleprompter = dspy.teleprompt.COPRO(\n",
    "    prompt_model=dspy.OpenAI(model='gpt-4o-2024-08-06', max_tokens=2000),\n",
    "    metric=validate_topic,\n",
    "    breadth=10,\n",
    "    depth=3,\n",
    "    init_temperature=1,\n",
    "    track_stats=True,\n",
    "    verbose=True,\n",
    ")\n",
    "initial_optimized_program = teleprompter.compile(\n",
    "    classify.deepcopy(),\n",
    "    trainset=train,\n",
    "    eval_kwargs={'num_threads': 2, 'display_progress': True, 'display_table': 0},\n",
    ")"
   ]
  },
  {
   "cell_type": "code",
   "execution_count": 161,
   "metadata": {},
   "outputs": [],
   "source": [
    "initial_optimized_program.save(f\"copro_4o_optimized\")"
   ]
  },
  {
   "cell_type": "code",
   "execution_count": null,
   "metadata": {},
   "outputs": [],
   "source": [
    "evaluate(initial_optimized_program)"
   ]
  },
  {
   "cell_type": "markdown",
   "metadata": {},
   "source": [
    "# 5. Optimize with only 4o-mini"
   ]
  },
  {
   "cell_type": "code",
   "execution_count": null,
   "metadata": {},
   "outputs": [],
   "source": [
    "teleprompter = dspy.teleprompt.COPRO(\n",
    "    prompt_model=dspy.OpenAI(model='gpt-4o-mini-2024-07-18', max_tokens=2000),\n",
    "    metric=validate_topic,\n",
    "    breadth=10,\n",
    "    depth=3,\n",
    "    init_temperature=1,\n",
    "    track_stats=True,\n",
    "    verbose=True,\n",
    ")\n",
    "new_optimized_program = teleprompter.compile(\n",
    "    classify.deepcopy(),\n",
    "    trainset=train,\n",
    "    eval_kwargs={'num_threads': 2, 'display_progress': True, 'display_table': 0},\n",
    ")"
   ]
  },
  {
   "cell_type": "code",
   "execution_count": 162,
   "metadata": {},
   "outputs": [],
   "source": [
    "new_optimized_program.save(f\"copro_4o-mini_optimized\")"
   ]
  },
  {
   "cell_type": "code",
   "execution_count": null,
   "metadata": {},
   "outputs": [],
   "source": [
    "evaluate(new_optimized_program)"
   ]
  },
  {
   "cell_type": "code",
   "execution_count": null,
   "metadata": {},
   "outputs": [],
   "source": []
  }
 ],
 "metadata": {
  "kernelspec": {
   "display_name": "python3.11",
   "language": "python",
   "name": "python3"
  },
  "language_info": {
   "codemirror_mode": {
    "name": "ipython",
    "version": 3
   },
   "file_extension": ".py",
   "mimetype": "text/x-python",
   "name": "python",
   "nbconvert_exporter": "python",
   "pygments_lexer": "ipython3",
   "version": "3.11.9"
  }
 },
 "nbformat": 4,
 "nbformat_minor": 2
}
